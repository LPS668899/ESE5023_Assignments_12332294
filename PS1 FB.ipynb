{
 "cells": [
  {
   "cell_type": "markdown",
   "metadata": {},
   "source": [
    "Assignment 1 (due on 10/25)  \n",
    "学生：李普双 (12332294)，Github: LPS668899  \n",
    "批改人：Zhao Shuhui  \n",
    "得分：97/100  "
   ]
  },
  {
   "cell_type": "markdown",
   "metadata": {},
   "source": [
    "# PS1_1 \n",
    "9/10  \n",
    "1.创建了Print_values(a,b,c)方法 -1  题中a>b(F)-b>c(T)后为不输出   \n",
    "2.4种输出情况都能满足   √  \n",
    "3.报告里列出部分例子（此项本次不扣分仅提醒）    √"
   ]
  },
  {
   "cell_type": "code",
   "execution_count": 2,
   "metadata": {},
   "outputs": [
    {
     "name": "stdout",
     "output_type": "stream",
     "text": [
      "6 4 3\n",
      "6 4 3\n",
      "6 4 3\n",
      "6 4 3\n",
      "4 3 6\n",
      "4 3 6\n"
     ]
    }
   ],
   "source": [
    "# %load PS1_1.py\n",
    "#定义一个按规定要求的排序函数\n",
    "def  Print_values(a,b,c):\n",
    "    if a>b:\n",
    "        if b>c:\n",
    "            print(a,b,c)\n",
    "        else:\n",
    "            if a>c:\n",
    "               print(a,c,b)\n",
    "            else:\n",
    "               print(c,a,b)\n",
    "    else:\n",
    "        if b>c:\n",
    "            if a>c:\n",
    "                print(a,c,b)\n",
    "            else:\n",
    "                print(c,a,b)\n",
    "        else:\n",
    "            print(c,b,a)\n",
    "\n",
    "# Example  \n",
    "# a=6, b=4, c=3     \n",
    "Print_values(6,4,3)   \n",
    "# a=6, b=3, c=4    \n",
    "Print_values(6,3,4) \n",
    "# a=3, b=4, c=6\n",
    "Print_values(3,4,6)\n",
    "# a=4, b=3, c=6\n",
    "Print_values(4,3,6) \n",
    "# a=3, b=6, c=4\n",
    "Print_values(3,6,4) \n",
    "# a=4, b=6, c=3\n",
    "Print_values(4,6,3) "
   ]
  },
  {
   "cell_type": "markdown",
   "metadata": {},
   "source": [
    "# PS1_2\n",
    "15/15  \n",
    "1.能自行创建矩阵M1(5行10列)和M2(10行5列)    √  \n",
    "2.M1, M2的数值范围为0到50的整数 √  \n",
    "3.创建能进行矩阵乘法的方法Matrix_multip()   √  \n",
    "4.方法内仅使用for循环, *和+运算符   √  \n",
    "5.报告里列出部分例子（此项本次不扣分仅提醒）    √  "
   ]
  },
  {
   "cell_type": "code",
   "execution_count": 4,
   "metadata": {},
   "outputs": [
    {
     "name": "stdout",
     "output_type": "stream",
     "text": [
      "M1=\n",
      "[31, 8, 19, 18, 9, 40, 44, 39, 41, 47]\n",
      "[47, 31, 22, 19, 42, 24, 30, 18, 18, 38]\n",
      "[34, 35, 37, 16, 50, 48, 43, 34, 44, 50]\n",
      "[25, 18, 44, 13, 4, 37, 35, 36, 3, 39]\n",
      "[39, 5, 14, 32, 2, 29, 27, 6, 17, 50]\n",
      "M2=\n",
      "[29, 15, 2, 0, 46]\n",
      "[22, 14, 10, 23, 23]\n",
      "[7, 31, 47, 47, 30]\n",
      "[28, 47, 48, 28, 20]\n",
      "[45, 5, 46, 44, 19]\n",
      "[47, 0, 33, 42, 20]\n",
      "[38, 13, 12, 42, 15]\n",
      "[4, 26, 9, 16, 28]\n",
      "[30, 38, 47, 27, 12]\n",
      "[30, 29, 38, 23, 27]\n",
      "M1*M2=\n",
      "[8465, 6564, 8225, 8317, 7024]\n",
      "[8641, 5568, 7886, 8043, 7389]\n",
      "[11559, 7714, 11599, 11896, 9184]\n",
      "[6446, 5258, 6694, 7600, 6582]\n",
      "[6748, 5206, 6448, 5814, 5714]\n"
     ]
    }
   ],
   "source": [
    "# %load PS1_2.py\n",
    "import random\n",
    "\n",
    "#2.1\n",
    "#定义一个可以生成指定行数和列数的随机矩阵的函数\n",
    "def generate_random_matrix(rows,columns):\n",
    "     matrix=[]\n",
    "     for i in range(rows):\n",
    "         row=[]\n",
    "         for j in range(columns):\n",
    "             random_numbers = random.randint(0,50) #生产一个0~50之间随机数\n",
    "             row.append(random_numbers)\n",
    "         matrix.append(row)\n",
    "     return matrix    \n",
    "\n",
    "\n",
    "#生成一个5行10列的矩阵M1\n",
    "M1=generate_random_matrix(5,10)\n",
    "#生成一个10行5列的矩阵M2\n",
    "M2=generate_random_matrix(10,5)\n",
    "\n",
    "#打印矩阵M1和M2\n",
    "print(\"M1=\")\n",
    "for row in M1:\n",
    "    print(row)\n",
    "print(\"M2=\")\n",
    "for row in M2:\n",
    "    print(row)   \n",
    "     \n",
    "#2.2\n",
    "#定义矩阵乘法函数\n",
    "def Matrix_multip(M1,M2):\n",
    "#先判断矩阵是否可以相乘\n",
    "    if len(M1) != len(M2[0]):                                                  \n",
    "        print (\"矩阵维度不匹配，无法相乘！\")\n",
    "    else:    \n",
    "        multip_matrix = [[0 for _ in range(len(M1))] for _ in range(len(M1))]\n",
    "        for i in range(len(M1)): \n",
    "            for j in range(len(M1)):\n",
    "                for k in range(len(M2)):\n",
    "                    multip_matrix[i][j] = multip_matrix[i][j]+M1[i][k] * M2[k][j]\n",
    "        return multip_matrix\n",
    "\n",
    "#计算并打印M1*M2的结果\n",
    "result=Matrix_multip(M1,M2)\n",
    "print(\"M1*M2=\")\n",
    "for row in result:\n",
    "     print(row)\n",
    "\n"
   ]
  },
  {
   "cell_type": "code",
   "execution_count": 5,
   "metadata": {},
   "outputs": [
    {
     "data": {
      "text/plain": [
       "array([[ 8465,  6564,  8225,  8317,  7024],\n",
       "       [ 8641,  5568,  7886,  8043,  7389],\n",
       "       [11559,  7714, 11599, 11896,  9184],\n",
       "       [ 6446,  5258,  6694,  7600,  6582],\n",
       "       [ 6748,  5206,  6448,  5814,  5714]])"
      ]
     },
     "execution_count": 5,
     "metadata": {},
     "output_type": "execute_result"
    }
   ],
   "source": [
    "# TA test\n",
    "import numpy as np\n",
    "np.matmul(M1,M2)"
   ]
  },
  {
   "cell_type": "markdown",
   "metadata": {},
   "source": [
    "# PS1_3\n",
    "19/20  \n",
    "1.创建了Pascal_triangle(k)方法  √  \n",
    "2.能够输出第n行的Pascal_triangle    -1  上述方法未能print出第n行的帕斯卡三角形  \n",
    "3.报告里列出k=100和200的情况（此项本次不扣分仅提醒）    -0  第k行"
   ]
  },
  {
   "cell_type": "code",
   "execution_count": 10,
   "metadata": {},
   "outputs": [
    {
     "name": "stdout",
     "output_type": "stream",
     "text": [
      "             1             \n",
      "            1 1            \n",
      "           1 2 1           \n",
      "          1 3 3 1          \n",
      "         1 4 6 4 1         \n",
      "       1 5 10 10 5 1       \n",
      "      1 6 15 20 15 6 1     \n",
      "    1 7 21 35 35 21 7 1    \n",
      "   1 8 28 56 70 56 28 8 1  \n",
      "1 9 36 84 126 126 84 36 9 1\n"
     ]
    }
   ],
   "source": [
    "# %load PS1_3.py\n",
    "#定义生成k阶的Pascal_triangle数组的函数\n",
    "def Pascal_triangle(k):\n",
    "    triangle=[]\n",
    "    for i in range(k):\n",
    "        if i == 0:\n",
    "           row=[1]\n",
    "        else:\n",
    "           row=[1,1]\n",
    "           if i >= 2:\n",
    "              for j in range(1,i):\n",
    "                  row_prev = triangle[i-1]\n",
    "                  new_number = row_prev[j-1] + row_prev[j]\n",
    "                  row.insert(j,new_number)\n",
    "        triangle.append(row)    \n",
    "    return triangle \n",
    "\n",
    "#定义打印Pascal_triangle的函数\n",
    "def Print_pascals_triangle(triangle):\n",
    "    max_width = len(' '.join(map(str, triangle[-1])))  # 用于对齐输出\n",
    "    for row in triangle:\n",
    "        formatted_row = ' '.join(map(str, row))\n",
    "        print(formatted_row.center(max_width))\n",
    "\n",
    "#生成10阶的Pascal_triangle数组\n",
    "triangle_10=Pascal_triangle(10)\n",
    "#生成100阶的Pascal_triangle数组\n",
    "triangle_100=Pascal_triangle(100)\n",
    "#生成200阶的Pascal_triangle数组\n",
    "triangle_200=Pascal_triangle(200)\n",
    "\n",
    "#打印10阶的Pascal_triangle数组\n",
    "Print_pascals_triangle(triangle_10)\n",
    "\n"
   ]
  },
  {
   "cell_type": "markdown",
   "metadata": {},
   "source": [
    "# PS1_4\n",
    "20/20  \n",
    "1.创建了Least_moves(x)方法  √  \n",
    "2.方法能满足题目要求，且把结果print出来 √  \n",
    "3.报告里列出部分例子（此项本次不扣分仅提醒）    √"
   ]
  },
  {
   "cell_type": "code",
   "execution_count": 15,
   "metadata": {},
   "outputs": [
    {
     "name": "stdout",
     "output_type": "stream",
     "text": [
      "获得 33 RMB的最少步数：6\n"
     ]
    }
   ],
   "source": [
    "# %load PS1_4.py\n",
    "#定义达到x值的最短步数的函数 \n",
    "def Least_moves(x):\n",
    "    moves = 0\n",
    "    if x == 1:                   #如果x=1,moves=0\n",
    "        return moves\n",
    "    else:\n",
    "        while x > 1:\n",
    "           if x % 2 == 0:         #如果x为偶数\n",
    "                 x = x // 2       # 除以2\n",
    "           else:\n",
    "                 x = x - 1        #如果x为奇数，减1\n",
    "           moves += 1             #每进行1次运算，步长加1\n",
    "        return moves\n",
    "\n",
    "import random \n",
    "x=random.randint(1,100)   #x为1~100的随机数\n",
    "moves=Least_moves(x)      #计算到x值的最短步数\n",
    "print(f\"获得 {x} RMB的最少步数：{moves}\")  #输出获得x元的最少步数为moves"
   ]
  },
  {
   "cell_type": "markdown",
   "metadata": {},
   "source": [
    "# PS1_5\n",
    "34/35    \n",
    "1.创建了Find_expression(x)方法  √  \n",
    "2.方法满足题目要求，可以计算1到100的所有可能性组合，数字保持顺序    √  \n",
    "3.将所有可能性组合数放到名为Total_solutions的list里，并plot，找出可能性组合数最多和最少的数 -1  可能性组合数最多的数为1和45  \n",
    "4.报告里列出部分例子（此项本次不扣分仅提醒）    √  "
   ]
  },
  {
   "cell_type": "code",
   "execution_count": 19,
   "metadata": {},
   "outputs": [
    {
     "name": "stdout",
     "output_type": "stream",
     "text": [
      "打印出所有target=50的等式\n",
      "1+2+3+4-56+7+89=50\n",
      "1+2+3-4+56-7+8-9=50\n",
      "1+2-3+4+56+7-8-9=50\n",
      "1+2+34-5-6+7+8+9=50\n",
      "1+2+34-56+78-9=50\n",
      "1+2-34+5-6-7+89=50\n",
      "1-2+3-45+6+78+9=50\n",
      "1-2-3+4+56-7-8+9=50\n",
      "1-2-3-4-5-6+78-9=50\n",
      "1-2+34+5+6+7+8-9=50\n",
      "1-2+34-5-67+89=50\n",
      "1-2-34-5-6+7+89=50\n",
      "1-23+4+5-6+78-9=50\n",
      "1-23-4-5-6+78+9=50\n",
      "12+3+4-56+78+9=50\n",
      "12-3-4-5+67-8-9=50\n",
      "12-3+45+6+7-8-9=50\n"
     ]
    }
   ],
   "source": [
    "# %load PS1_5.py\n",
    "#5.1\n",
    "#定义划分等式及计算等式的函数\n",
    "def calculate_expressions(digits, target, current_expr=\"\", current_value=0, index=0,first_digit=True):\n",
    "    if index == len(digits):\n",
    "        if current_value == target:\n",
    "            return [(current_expr, 1)]\n",
    "        else:\n",
    "            return []\n",
    "\n",
    "    solutions = []\n",
    "\n",
    "    for i in range(index + 1, len(digits) + 1):\n",
    "        num_str = digits[index:i]\n",
    "        num = int(num_str)\n",
    "        \n",
    "        if first_digit:\n",
    "            # 对于第一个数字，只能添加正号\n",
    "            new_expr_plus = num_str\n",
    "            solutions += calculate_expressions(digits, target, new_expr_plus, num, i, False)\n",
    "        else:\n",
    "        # 递归调用：尝试在当前数字后添加正号或负号\n",
    "            new_expr_plus = current_expr + \"+\" + num_str\n",
    "            new_expr_minus = current_expr + \"-\" + num_str\n",
    "            solutions += calculate_expressions(digits, target, new_expr_plus, current_value + num, i,first_digit)\n",
    "            solutions += calculate_expressions(digits, target, new_expr_minus, current_value - num, i,first_digit)\n",
    "\n",
    "    return solutions\n",
    "\n",
    "def Find_expressions(target):\n",
    "    digits=\"123456789\"\n",
    "    solutions = calculate_expressions(digits, target)\n",
    "    return solutions\n",
    "\n",
    "target = 50 #以target=50 举例\n",
    "expressions = Find_expressions(target)\n",
    "\n",
    "print(f\"打印出所有target={target}的等式\")\n",
    "for expr, _ in expressions:\n",
    "    print(expr + f\"={target}\")\n",
    "\n",
    "\n"
   ]
  },
  {
   "cell_type": "code",
   "execution_count": 20,
   "metadata": {},
   "outputs": [
    {
     "name": "stdout",
     "output_type": "stream",
     "text": [
      "Max Solutions: 26 for Target: 1\n",
      "Min Solutions: 6 for Target: 88\n"
     ]
    },
    {
     "data": {
      "image/png": "[encoded data removed]",
      "text/plain": [
       "<Figure size 720x432 with 1 Axes>"
      ]
     },
     "metadata": {
      "needs_background": "light"
     },
     "output_type": "display_data"
    }
   ],
   "source": [
    "#5.2\n",
    "import matplotlib.pyplot as plt\n",
    "\n",
    "#计算target=1~100时，solutions的个数\n",
    "Total_solutions = []\n",
    "for target in range(1, 101):\n",
    "    count_solutions = len(Find_expressions(target))\n",
    "    Total_solutions.append(count_solutions)\n",
    "\n",
    "# 绘制图表\n",
    "plt.figure(figsize=(10, 6))\n",
    "plt.plot(range(1, 101), Total_solutions, marker='o')\n",
    "plt.title('Solutions Count for Targets 1 to 100')\n",
    "plt.xlabel('Target Value')\n",
    "plt.ylabel('Number of Solutions')\n",
    "plt.grid(True)\n",
    "\n",
    "# 找到最大值和最小值及其对应的target\n",
    "max_solutions = max(Total_solutions)\n",
    "min_solutions = min(Total_solutions)\n",
    "max_target = Total_solutions.index(max_solutions) + 1\n",
    "min_target = Total_solutions.index(min_solutions) + 1\n",
    "\n",
    "print(\"Max Solutions:\", max_solutions, \"for Target:\", max_target)\n",
    "print(\"Min Solutions:\", min_solutions, \"for Target:\", min_target)\n",
    "\n",
    "plt.show()\n",
    "\n"
   ]
  }
 ],
 "metadata": {
  "kernelspec": {
   "display_name": "py311",
   "language": "python",
   "name": "python3"
  },
  "language_info": {
   "codemirror_mode": {
    "name": "ipython",
    "version": 3
   },
   "file_extension": ".py",
   "mimetype": "text/x-python",
   "name": "python",
   "nbconvert_exporter": "python",
   "pygments_lexer": "ipython3",
   "version": "3.9.7"
  }
 },
 "nbformat": 4,
 "nbformat_minor": 2
}
